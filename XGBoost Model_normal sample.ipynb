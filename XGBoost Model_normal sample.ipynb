{
 "cells": [
  {
   "cell_type": "code",
   "execution_count": 1,
   "metadata": {},
   "outputs": [],
   "source": [
    "import numpy as np\n",
    "import pandas as pd\n",
    "from xgboost import XGBRegressor\n",
    "from sklearn.metrics import accuracy_score\n",
    "from sklearn.preprocessing import MinMaxScaler\n",
    "from sklearn.pipeline import make_pipeline\n",
    "from sklearn.model_selection import GridSearchCV\n",
    "from sklearn.model_selection import train_test_split\n",
    "from sklearn.model_selection import StratifiedKFold\n",
    "import warnings\n",
    "warnings.filterwarnings('ignore')\n",
    "import random"
   ]
  },
  {
   "cell_type": "code",
   "execution_count": 2,
   "metadata": {},
   "outputs": [],
   "source": [
    "train_modified = pd.read_csv('train_modified.csv')"
   ]
  },
  {
   "cell_type": "code",
   "execution_count": 3,
   "metadata": {},
   "outputs": [
    {
     "data": {
      "text/plain": [
       "Semana                       False\n",
       "Agencia_ID                   False\n",
       "Canal_ID                     False\n",
       "Ruta_SAK                     False\n",
       "Cliente_ID                   False\n",
       "Producto_ID                  False\n",
       "Client_Type                  False\n",
       "Producto_name                False\n",
       "weight                       False\n",
       "pieces                       False\n",
       "weight_per_piece             False\n",
       "Demanda_uni_equil            False\n",
       "Demanda_uni_equil_tminus1    False\n",
       "Demanda_uni_equil_tminus2    False\n",
       "Demanda_uni_equil_tminus3    False\n",
       "Demanda_uni_equil_tminus4    False\n",
       "Demanda_uni_equil_tminus5    False\n",
       "Agencia_ID_count             False\n",
       "Canal_ID_count               False\n",
       "Ruta_SAK_count               False\n",
       "Cliente_ID_count             False\n",
       "Producto_ID_count            False\n",
       "Client_Type_count            False\n",
       "dtype: bool"
      ]
     },
     "execution_count": 3,
     "metadata": {},
     "output_type": "execute_result"
    }
   ],
   "source": [
    "train_modified.fillna(train_modified.mean(),inplace = True)\n",
    "train_modified.isnull().any()"
   ]
  },
  {
   "cell_type": "code",
   "execution_count": 4,
   "metadata": {},
   "outputs": [
    {
     "data": {
      "text/html": [
       "<div>\n",
       "<style scoped>\n",
       "    .dataframe tbody tr th:only-of-type {\n",
       "        vertical-align: middle;\n",
       "    }\n",
       "\n",
       "    .dataframe tbody tr th {\n",
       "        vertical-align: top;\n",
       "    }\n",
       "\n",
       "    .dataframe thead th {\n",
       "        text-align: right;\n",
       "    }\n",
       "</style>\n",
       "<table border=\"1\" class=\"dataframe\">\n",
       "  <thead>\n",
       "    <tr style=\"text-align: right;\">\n",
       "      <th></th>\n",
       "      <th>Semana</th>\n",
       "      <th>Agencia_ID</th>\n",
       "      <th>Canal_ID</th>\n",
       "      <th>Ruta_SAK</th>\n",
       "      <th>Cliente_ID</th>\n",
       "      <th>Producto_ID</th>\n",
       "      <th>Client_Type</th>\n",
       "      <th>Producto_name</th>\n",
       "      <th>weight</th>\n",
       "      <th>pieces</th>\n",
       "      <th>...</th>\n",
       "      <th>Demanda_uni_equil_tminus2</th>\n",
       "      <th>Demanda_uni_equil_tminus3</th>\n",
       "      <th>Demanda_uni_equil_tminus4</th>\n",
       "      <th>Demanda_uni_equil_tminus5</th>\n",
       "      <th>Agencia_ID_count</th>\n",
       "      <th>Canal_ID_count</th>\n",
       "      <th>Ruta_SAK_count</th>\n",
       "      <th>Cliente_ID_count</th>\n",
       "      <th>Producto_ID_count</th>\n",
       "      <th>Client_Type_count</th>\n",
       "    </tr>\n",
       "  </thead>\n",
       "  <tbody>\n",
       "    <tr>\n",
       "      <th>0</th>\n",
       "      <td>6</td>\n",
       "      <td>1110</td>\n",
       "      <td>7</td>\n",
       "      <td>3301</td>\n",
       "      <td>73589</td>\n",
       "      <td>1212</td>\n",
       "      <td>8</td>\n",
       "      <td>428</td>\n",
       "      <td>120.0</td>\n",
       "      <td>2.0</td>\n",
       "      <td>...</td>\n",
       "      <td>0.0</td>\n",
       "      <td>0.0</td>\n",
       "      <td>0.0</td>\n",
       "      <td>0.0</td>\n",
       "      <td>6726.222</td>\n",
       "      <td>81297.336</td>\n",
       "      <td>3480.2222</td>\n",
       "      <td>12.111111</td>\n",
       "      <td>144403.0</td>\n",
       "      <td>3848448.800</td>\n",
       "    </tr>\n",
       "    <tr>\n",
       "      <th>1</th>\n",
       "      <td>6</td>\n",
       "      <td>1110</td>\n",
       "      <td>7</td>\n",
       "      <td>3301</td>\n",
       "      <td>73844</td>\n",
       "      <td>1212</td>\n",
       "      <td>11</td>\n",
       "      <td>428</td>\n",
       "      <td>120.0</td>\n",
       "      <td>2.0</td>\n",
       "      <td>...</td>\n",
       "      <td>2.0</td>\n",
       "      <td>2.0</td>\n",
       "      <td>0.0</td>\n",
       "      <td>0.0</td>\n",
       "      <td>6726.222</td>\n",
       "      <td>81297.336</td>\n",
       "      <td>3480.2222</td>\n",
       "      <td>7.750000</td>\n",
       "      <td>144403.0</td>\n",
       "      <td>17455.111</td>\n",
       "    </tr>\n",
       "    <tr>\n",
       "      <th>2</th>\n",
       "      <td>6</td>\n",
       "      <td>1110</td>\n",
       "      <td>7</td>\n",
       "      <td>3301</td>\n",
       "      <td>818913</td>\n",
       "      <td>1212</td>\n",
       "      <td>8</td>\n",
       "      <td>428</td>\n",
       "      <td>120.0</td>\n",
       "      <td>2.0</td>\n",
       "      <td>...</td>\n",
       "      <td>0.0</td>\n",
       "      <td>0.0</td>\n",
       "      <td>0.0</td>\n",
       "      <td>0.0</td>\n",
       "      <td>6726.222</td>\n",
       "      <td>81297.336</td>\n",
       "      <td>3480.2222</td>\n",
       "      <td>10.625000</td>\n",
       "      <td>144403.0</td>\n",
       "      <td>3848448.800</td>\n",
       "    </tr>\n",
       "    <tr>\n",
       "      <th>3</th>\n",
       "      <td>6</td>\n",
       "      <td>1110</td>\n",
       "      <td>7</td>\n",
       "      <td>3301</td>\n",
       "      <td>988589</td>\n",
       "      <td>1212</td>\n",
       "      <td>8</td>\n",
       "      <td>428</td>\n",
       "      <td>120.0</td>\n",
       "      <td>2.0</td>\n",
       "      <td>...</td>\n",
       "      <td>0.0</td>\n",
       "      <td>0.0</td>\n",
       "      <td>0.0</td>\n",
       "      <td>0.0</td>\n",
       "      <td>6726.222</td>\n",
       "      <td>81297.336</td>\n",
       "      <td>3480.2222</td>\n",
       "      <td>16.444445</td>\n",
       "      <td>144403.0</td>\n",
       "      <td>3848448.800</td>\n",
       "    </tr>\n",
       "    <tr>\n",
       "      <th>4</th>\n",
       "      <td>6</td>\n",
       "      <td>1110</td>\n",
       "      <td>7</td>\n",
       "      <td>3301</td>\n",
       "      <td>1159580</td>\n",
       "      <td>1212</td>\n",
       "      <td>11</td>\n",
       "      <td>428</td>\n",
       "      <td>120.0</td>\n",
       "      <td>2.0</td>\n",
       "      <td>...</td>\n",
       "      <td>3.0</td>\n",
       "      <td>3.0</td>\n",
       "      <td>0.0</td>\n",
       "      <td>0.0</td>\n",
       "      <td>6726.222</td>\n",
       "      <td>81297.336</td>\n",
       "      <td>3480.2222</td>\n",
       "      <td>19.444445</td>\n",
       "      <td>144403.0</td>\n",
       "      <td>17455.111</td>\n",
       "    </tr>\n",
       "  </tbody>\n",
       "</table>\n",
       "<p>5 rows × 23 columns</p>\n",
       "</div>"
      ],
      "text/plain": [
       "   Semana  Agencia_ID  Canal_ID  Ruta_SAK  Cliente_ID  Producto_ID  \\\n",
       "0       6        1110         7      3301       73589         1212   \n",
       "1       6        1110         7      3301       73844         1212   \n",
       "2       6        1110         7      3301      818913         1212   \n",
       "3       6        1110         7      3301      988589         1212   \n",
       "4       6        1110         7      3301     1159580         1212   \n",
       "\n",
       "   Client_Type  Producto_name  weight  pieces  ...  Demanda_uni_equil_tminus2  \\\n",
       "0            8            428   120.0     2.0  ...                        0.0   \n",
       "1           11            428   120.0     2.0  ...                        2.0   \n",
       "2            8            428   120.0     2.0  ...                        0.0   \n",
       "3            8            428   120.0     2.0  ...                        0.0   \n",
       "4           11            428   120.0     2.0  ...                        3.0   \n",
       "\n",
       "   Demanda_uni_equil_tminus3  Demanda_uni_equil_tminus4  \\\n",
       "0                        0.0                        0.0   \n",
       "1                        2.0                        0.0   \n",
       "2                        0.0                        0.0   \n",
       "3                        0.0                        0.0   \n",
       "4                        3.0                        0.0   \n",
       "\n",
       "   Demanda_uni_equil_tminus5  Agencia_ID_count  Canal_ID_count  \\\n",
       "0                        0.0          6726.222       81297.336   \n",
       "1                        0.0          6726.222       81297.336   \n",
       "2                        0.0          6726.222       81297.336   \n",
       "3                        0.0          6726.222       81297.336   \n",
       "4                        0.0          6726.222       81297.336   \n",
       "\n",
       "   Ruta_SAK_count  Cliente_ID_count  Producto_ID_count  Client_Type_count  \n",
       "0       3480.2222         12.111111           144403.0        3848448.800  \n",
       "1       3480.2222          7.750000           144403.0          17455.111  \n",
       "2       3480.2222         10.625000           144403.0        3848448.800  \n",
       "3       3480.2222         16.444445           144403.0        3848448.800  \n",
       "4       3480.2222         19.444445           144403.0          17455.111  \n",
       "\n",
       "[5 rows x 23 columns]"
      ]
     },
     "execution_count": 4,
     "metadata": {},
     "output_type": "execute_result"
    }
   ],
   "source": [
    "train_modified[:5]"
   ]
  },
  {
   "cell_type": "code",
   "execution_count": 5,
   "metadata": {},
   "outputs": [
    {
     "data": {
      "text/plain": [
       "Index(['Semana', 'Agencia_ID', 'Canal_ID', 'Ruta_SAK', 'Cliente_ID',\n",
       "       'Producto_ID', 'Client_Type', 'Producto_name', 'weight', 'pieces',\n",
       "       'weight_per_piece', 'Demanda_uni_equil', 'Demanda_uni_equil_tminus1',\n",
       "       'Demanda_uni_equil_tminus2', 'Demanda_uni_equil_tminus3',\n",
       "       'Demanda_uni_equil_tminus4', 'Demanda_uni_equil_tminus5',\n",
       "       'Agencia_ID_count', 'Canal_ID_count', 'Ruta_SAK_count',\n",
       "       'Cliente_ID_count', 'Producto_ID_count', 'Client_Type_count'],\n",
       "      dtype='object')"
      ]
     },
     "execution_count": 5,
     "metadata": {},
     "output_type": "execute_result"
    }
   ],
   "source": [
    "train_modified.columns"
   ]
  },
  {
   "cell_type": "code",
   "execution_count": 6,
   "metadata": {},
   "outputs": [],
   "source": [
    "X = train_modified.drop(columns = ['Demanda_uni_equil'])\n",
    "Y = train_modified['Demanda_uni_equil']\n"
   ]
  },
  {
   "cell_type": "code",
   "execution_count": 7,
   "metadata": {},
   "outputs": [],
   "source": [
    "X_train,X_test,Y_train,Y_test = train_test_split(X,Y,train_size = 0.25,random_state = 1)"
   ]
  },
  {
   "cell_type": "code",
   "execution_count": 8,
   "metadata": {},
   "outputs": [],
   "source": [
    "def RMSLE(actuals, predictions):\n",
    "    \"\"\" Takes true values and predictions. Returns their Root Mean Squared Logarithmic Error.\n",
    "    \"\"\"\n",
    "    result = 0.0\n",
    "    actuals = np.asarray(actuals) * 1.0\n",
    "    predictions = np.asarray(predictions)\n",
    "    if(len(actuals) == len(predictions)):\n",
    "        result = np.sqrt(sum(((np.log(predictions + 1.0) - np.log(actuals + 1.0)) ** 2) / len(actuals)))\n",
    "        return result\n",
    "    else: \n",
    "        return \"Error!\"\n",
    "    "
   ]
  },
  {
   "cell_type": "code",
   "execution_count": 9,
   "metadata": {},
   "outputs": [],
   "source": [
    "#MinMaxScaler().fit(X_trian)\n",
    "X_train_scaled = MinMaxScaler().fit(X_train).transform(X_train)\n",
    "X_test_scaled = MinMaxScaler().fit(X_test).transform(X_test)"
   ]
  },
  {
   "cell_type": "code",
   "execution_count": null,
   "metadata": {},
   "outputs": [
    {
     "name": "stdout",
     "output_type": "stream",
     "text": [
      "[14:19:07] WARNING: src/learner.cc:686: Tree method is automatically selected to be 'approx' for faster speed. To use old behavior (exact greedy algorithm on single machine), set tree_method to 'exact'.\n",
      "[15:04:52] WARNING: src/learner.cc:686: Tree method is automatically selected to be 'approx' for faster speed. To use old behavior (exact greedy algorithm on single machine), set tree_method to 'exact'.\n",
      "[15:47:41] WARNING: src/learner.cc:686: Tree method is automatically selected to be 'approx' for faster speed. To use old behavior (exact greedy algorithm on single machine), set tree_method to 'exact'.\n",
      "[16:31:07] WARNING: src/learner.cc:686: Tree method is automatically selected to be 'approx' for faster speed. To use old behavior (exact greedy algorithm on single machine), set tree_method to 'exact'.\n",
      "[17:14:30] WARNING: src/learner.cc:686: Tree method is automatically selected to be 'approx' for faster speed. To use old behavior (exact greedy algorithm on single machine), set tree_method to 'exact'.\n",
      "[18:00:00] WARNING: src/learner.cc:686: Tree method is automatically selected to be 'approx' for faster speed. To use old behavior (exact greedy algorithm on single machine), set tree_method to 'exact'.\n",
      "[20:04:44] WARNING: src/learner.cc:686: Tree method is automatically selected to be 'approx' for faster speed. To use old behavior (exact greedy algorithm on single machine), set tree_method to 'exact'.\n",
      "[20:50:00] WARNING: src/learner.cc:686: Tree method is automatically selected to be 'approx' for faster speed. To use old behavior (exact greedy algorithm on single machine), set tree_method to 'exact'.\n",
      "[21:34:36] WARNING: src/learner.cc:686: Tree method is automatically selected to be 'approx' for faster speed. To use old behavior (exact greedy algorithm on single machine), set tree_method to 'exact'.\n",
      "[22:18:49] WARNING: src/learner.cc:686: Tree method is automatically selected to be 'approx' for faster speed. To use old behavior (exact greedy algorithm on single machine), set tree_method to 'exact'.\n",
      "[23:01:58] WARNING: src/learner.cc:686: Tree method is automatically selected to be 'approx' for faster speed. To use old behavior (exact greedy algorithm on single machine), set tree_method to 'exact'.\n",
      "[00:53:41] WARNING: src/learner.cc:686: Tree method is automatically selected to be 'approx' for faster speed. To use old behavior (exact greedy algorithm on single machine), set tree_method to 'exact'.\n",
      "[02:23:56] WARNING: src/learner.cc:686: Tree method is automatically selected to be 'approx' for faster speed. To use old behavior (exact greedy algorithm on single machine), set tree_method to 'exact'.\n",
      "[03:47:01] WARNING: src/learner.cc:686: Tree method is automatically selected to be 'approx' for faster speed. To use old behavior (exact greedy algorithm on single machine), set tree_method to 'exact'.\n",
      "[05:10:39] WARNING: src/learner.cc:686: Tree method is automatically selected to be 'approx' for faster speed. To use old behavior (exact greedy algorithm on single machine), set tree_method to 'exact'.\n",
      "[06:34:51] WARNING: src/learner.cc:686: Tree method is automatically selected to be 'approx' for faster speed. To use old behavior (exact greedy algorithm on single machine), set tree_method to 'exact'.\n",
      "[07:59:34] WARNING: src/learner.cc:686: Tree method is automatically selected to be 'approx' for faster speed. To use old behavior (exact greedy algorithm on single machine), set tree_method to 'exact'.\n",
      "[09:24:30] WARNING: src/learner.cc:686: Tree method is automatically selected to be 'approx' for faster speed. To use old behavior (exact greedy algorithm on single machine), set tree_method to 'exact'.\n",
      "[10:48:19] WARNING: src/learner.cc:686: Tree method is automatically selected to be 'approx' for faster speed. To use old behavior (exact greedy algorithm on single machine), set tree_method to 'exact'.\n",
      "[12:25:08] WARNING: src/learner.cc:686: Tree method is automatically selected to be 'approx' for faster speed. To use old behavior (exact greedy algorithm on single machine), set tree_method to 'exact'.\n",
      "[13:58:28] WARNING: src/learner.cc:686: Tree method is automatically selected to be 'approx' for faster speed. To use old behavior (exact greedy algorithm on single machine), set tree_method to 'exact'.\n",
      "[16:13:43] WARNING: src/learner.cc:686: Tree method is automatically selected to be 'approx' for faster speed. To use old behavior (exact greedy algorithm on single machine), set tree_method to 'exact'.\n",
      "[18:18:33] WARNING: src/learner.cc:686: Tree method is automatically selected to be 'approx' for faster speed. To use old behavior (exact greedy algorithm on single machine), set tree_method to 'exact'.\n",
      "[20:49:09] WARNING: src/learner.cc:686: Tree method is automatically selected to be 'approx' for faster speed. To use old behavior (exact greedy algorithm on single machine), set tree_method to 'exact'.\n",
      "[23:05:33] WARNING: src/learner.cc:686: Tree method is automatically selected to be 'approx' for faster speed. To use old behavior (exact greedy algorithm on single machine), set tree_method to 'exact'.\n",
      "[01:13:30] WARNING: src/learner.cc:686: Tree method is automatically selected to be 'approx' for faster speed. To use old behavior (exact greedy algorithm on single machine), set tree_method to 'exact'.\n",
      "[03:19:34] WARNING: src/learner.cc:686: Tree method is automatically selected to be 'approx' for faster speed. To use old behavior (exact greedy algorithm on single machine), set tree_method to 'exact'.\n",
      "[05:24:43] WARNING: src/learner.cc:686: Tree method is automatically selected to be 'approx' for faster speed. To use old behavior (exact greedy algorithm on single machine), set tree_method to 'exact'.\n",
      "[07:29:46] WARNING: src/learner.cc:686: Tree method is automatically selected to be 'approx' for faster speed. To use old behavior (exact greedy algorithm on single machine), set tree_method to 'exact'.\n",
      "[09:36:45] WARNING: src/learner.cc:686: Tree method is automatically selected to be 'approx' for faster speed. To use old behavior (exact greedy algorithm on single machine), set tree_method to 'exact'.\n",
      "[11:49:02] WARNING: src/learner.cc:686: Tree method is automatically selected to be 'approx' for faster speed. To use old behavior (exact greedy algorithm on single machine), set tree_method to 'exact'.\n",
      "[13:35:23] WARNING: src/learner.cc:686: Tree method is automatically selected to be 'approx' for faster speed. To use old behavior (exact greedy algorithm on single machine), set tree_method to 'exact'.\n",
      "[15:13:48] WARNING: src/learner.cc:686: Tree method is automatically selected to be 'approx' for faster speed. To use old behavior (exact greedy algorithm on single machine), set tree_method to 'exact'.\n",
      "[16:30:54] WARNING: src/learner.cc:686: Tree method is automatically selected to be 'approx' for faster speed. To use old behavior (exact greedy algorithm on single machine), set tree_method to 'exact'.\n",
      "[19:32:31] WARNING: src/learner.cc:686: Tree method is automatically selected to be 'approx' for faster speed. To use old behavior (exact greedy algorithm on single machine), set tree_method to 'exact'.\n",
      "[21:07:40] WARNING: src/learner.cc:686: Tree method is automatically selected to be 'approx' for faster speed. To use old behavior (exact greedy algorithm on single machine), set tree_method to 'exact'.\n",
      "[23:13:10] WARNING: src/learner.cc:686: Tree method is automatically selected to be 'approx' for faster speed. To use old behavior (exact greedy algorithm on single machine), set tree_method to 'exact'.\n",
      "[00:47:35] WARNING: src/learner.cc:686: Tree method is automatically selected to be 'approx' for faster speed. To use old behavior (exact greedy algorithm on single machine), set tree_method to 'exact'.\n",
      "[02:02:12] WARNING: src/learner.cc:686: Tree method is automatically selected to be 'approx' for faster speed. To use old behavior (exact greedy algorithm on single machine), set tree_method to 'exact'.\n",
      "[03:18:00] WARNING: src/learner.cc:686: Tree method is automatically selected to be 'approx' for faster speed. To use old behavior (exact greedy algorithm on single machine), set tree_method to 'exact'.\n",
      "[04:33:05] WARNING: src/learner.cc:686: Tree method is automatically selected to be 'approx' for faster speed. To use old behavior (exact greedy algorithm on single machine), set tree_method to 'exact'.\n"
     ]
    },
    {
     "name": "stdout",
     "output_type": "stream",
     "text": [
      "[07:06:06] WARNING: src/learner.cc:686: Tree method is automatically selected to be 'approx' for faster speed. To use old behavior (exact greedy algorithm on single machine), set tree_method to 'exact'.\n",
      "[09:41:36] WARNING: src/learner.cc:686: Tree method is automatically selected to be 'approx' for faster speed. To use old behavior (exact greedy algorithm on single machine), set tree_method to 'exact'.\n"
     ]
    }
   ],
   "source": [
    "n_estimators = [50,100,150]\n",
    "depth_value = [5,10,15,20]\n",
    "alpha = [0.2,0.3,0.4]\n",
    "\n",
    "from sklearn.metrics import make_scorer\n",
    "scorer = make_scorer(RMSLE,greater_is_better = False)\n",
    "\n",
    "param_grid = dict(n_estimators = n_estimators,max_depth = depth_value,learning_rate = alpha)\n",
    "kfold = StratifiedKFold(n_splits=10,shuffle=True,random_state=1)\n",
    "grid_search = GridSearchCV(XGBRegressor(objective ='reg:squarederror'),param_grid,cv = kfold,scoring = scorer)\n",
    "grid_result = grid_search.fit(X_train_scaled,Y_train)\n",
    "print('Best: %f using %s' % (grid_result.best_score_, grid_result.best_params_))"
   ]
  },
  {
   "cell_type": "code",
   "execution_count": 120,
   "metadata": {},
   "outputs": [
    {
     "data": {
      "text/plain": [
       "0.6545525718437913"
      ]
     },
     "execution_count": 120,
     "metadata": {},
     "output_type": "execute_result"
    }
   ],
   "source": [
    "xgbmodel = XGBRegressor(objective ='reg:squarederror',n_estimaors = 30,max_depth=10,learning_rate=0.1).fit(X_train_scaled,Y_train)\n",
    "prediction = xgbmodel.predict(X_test_scaled)\n",
    "prediction_pos = np.where(prediction<0,0,prediction)\n",
    "score = RMSLE(Y_test,prediction)\n",
    "score"
   ]
  },
  {
   "cell_type": "code",
   "execution_count": 121,
   "metadata": {},
   "outputs": [
    {
     "data": {
      "text/plain": [
       "array([  0.46735942,   0.53403944,   0.54673797, ...,  77.326584  ,\n",
       "       191.1983    , 191.24736   ], dtype=float32)"
      ]
     },
     "execution_count": 121,
     "metadata": {},
     "output_type": "execute_result"
    }
   ],
   "source": []
  },
  {
   "cell_type": "markdown",
   "metadata": {},
   "source": [
    "# Feature Importance"
   ]
  },
  {
   "cell_type": "code",
   "execution_count": 92,
   "metadata": {},
   "outputs": [
    {
     "data": {
      "text/plain": [
       "<matplotlib.axes._subplots.AxesSubplot at 0x1a656e6438>"
      ]
     },
     "execution_count": 92,
     "metadata": {},
     "output_type": "execute_result"
    },
    {
     "data": {
      "image/png": "[encoded data removed]",
      "text/plain": [
       "<Figure size 432x288 with 1 Axes>"
      ]
     },
     "metadata": {
      "needs_background": "light"
     },
     "output_type": "display_data"
    }
   ],
   "source": [
    "importance = pd.DataFrame({'Importance':xgbmodel.feature_importances_*100}, index = X.columns)\n",
    "importance.sort_values(by='Importance',axis=0,ascending=True).plot(kind='barh')"
   ]
  },
  {
   "cell_type": "code",
   "execution_count": 122,
   "metadata": {},
   "outputs": [
    {
     "name": "stdout",
     "output_type": "stream",
     "text": [
      "Thresh = 0.610,n = 1, RMSLE:0.7922\n",
      "Thresh = 0.147,n = 2, RMSLE:0.7688\n",
      "Thresh = 0.091,n = 3, RMSLE:0.7848\n",
      "Thresh = 0.028,n = 4, RMSLE:0.7390\n",
      "Thresh = 0.023,n = 5, RMSLE:0.7238\n",
      "Thresh = 0.011,n = 6, RMSLE:0.7057\n",
      "Thresh = 0.010,n = 7, RMSLE:0.6986\n",
      "Thresh = 0.009,n = 8, RMSLE:0.6796\n",
      "Thresh = 0.008,n = 9, RMSLE:0.6711\n",
      "Thresh = 0.008,n = 10, RMSLE:0.6661\n",
      "Thresh = 0.008,n = 11, RMSLE:0.6788\n",
      "Thresh = 0.007,n = 12, RMSLE:0.6783\n",
      "Thresh = 0.006,n = 13, RMSLE:0.6690\n",
      "Thresh = 0.006,n = 14, RMSLE:0.6690\n",
      "Thresh = 0.006,n = 15, RMSLE:0.6678\n",
      "Thresh = 0.005,n = 16, RMSLE:0.6705\n",
      "Thresh = 0.005,n = 17, RMSLE:0.6671\n",
      "Thresh = 0.004,n = 18, RMSLE:0.6631\n",
      "Thresh = 0.003,n = 19, RMSLE:0.6618\n",
      "Thresh = 0.003,n = 20, RMSLE:0.6627\n",
      "Thresh = 0.003,n = 21, RMSLE:0.6614\n",
      "Thresh = 0.001,n = 22, RMSLE:0.6614\n"
     ]
    },
    {
     "data": {
      "image/png": "[encoded data removed]",
      "text/plain": [
       "<Figure size 432x432 with 1 Axes>"
      ]
     },
     "metadata": {
      "needs_background": "light"
     },
     "output_type": "display_data"
    }
   ],
   "source": [
    "from sklearn.feature_selection import SelectFromModel\n",
    "from sklearn.metrics import accuracy_score\n",
    "from sklearn.metrics import mean_squared_log_error\n",
    "thresholds = sorted(xgbmodel.feature_importances_,reverse=True)\n",
    "RMSLElist =[]\n",
    "nlist =[]\n",
    "for thresh in thresholds:\n",
    "    selection = SelectFromModel(xgbmodel,threshold = thresh, prefit = True)\n",
    "    X_train_selected = selection.transform(X_train_scaled)\n",
    "    X_test_selected = selection.transform(X_test_scaled)\n",
    "    \n",
    "    model2 = XGBRegressor(objective ='reg:squarederror')\n",
    "    model2.fit(X_train_selected,Y_train)\n",
    "    \n",
    "    pred = model2.predict(X_test_selected)\n",
    "    pred = np.where(pred<0,0,pred)\n",
    "    RMSLE_score = RMSLE(Y_test,pred)\n",
    "    mse = mean_squared_error(Y_test,pred)\n",
    "    n_features = X_train_selected.shape[1]\n",
    "    print ('Thresh = %.3f,n = %d, RMSLE:%.4f' % (thresh, n_features,RMSLE_score))\n",
    "    RMSLElist.append(RMSLE_score)\n",
    "    nlist.append(n_features)\n",
    "\n",
    "pyplot.figure(figsize=(6,6))\n",
    "pyplot.xlabel('Number of features')\n",
    "pyplot.ylabel('RMSLE score')\n",
    "pyplot.plot(nlist,RMSLElist)\n",
    "pyplot.show()"
   ]
  },
  {
   "cell_type": "code",
   "execution_count": 63,
   "metadata": {},
   "outputs": [
    {
     "data": {
      "image/png": "[encoded data removed]",
      "text/plain": [
       "<Figure size 432x288 with 1 Axes>"
      ]
     },
     "metadata": {
      "needs_background": "light"
     },
     "output_type": "display_data"
    }
   ],
   "source": [
    "from xgboost import plot_importance\n",
    "from matplotlib import pyplot\n",
    "plot_importance(xgbmodel)\n",
    "pyplot.grid()"
   ]
  },
  {
   "cell_type": "code",
   "execution_count": 65,
   "metadata": {},
   "outputs": [
    {
     "data": {
      "text/plain": [
       "array([[6.66666667e-01, 6.16252181e-02, 0.00000000e+00, ...,\n",
       "        6.36386486e-04, 2.99713970e-01, 1.00000000e+00],\n",
       "       [1.00000000e+00, 4.48699744e-02, 0.00000000e+00, ...,\n",
       "        1.99795769e-04, 5.83819612e-02, 4.19556601e-01],\n",
       "       [0.00000000e+00, 2.83987180e-04, 0.00000000e+00, ...,\n",
       "        1.39857038e-03, 3.82854734e-01, 1.00000000e+00],\n",
       "       ...,\n",
       "       [6.66666667e-01, 2.38143535e-02, 0.00000000e+00, ...,\n",
       "        1.51696796e-03, 8.81657382e-01, 5.98509358e-02],\n",
       "       [6.66666667e-01, 1.71609396e-02, 0.00000000e+00, ...,\n",
       "        1.45036937e-03, 4.51364262e-02, 4.87022324e-01],\n",
       "       [0.00000000e+00, 2.10150513e-02, 0.00000000e+00, ...,\n",
       "        6.08901448e-04, 2.33189184e-01, 4.19556601e-01]])"
      ]
     },
     "execution_count": 65,
     "metadata": {},
     "output_type": "execute_result"
    }
   ],
   "source": [
    "from sklearn.feature_selection import SelectFromModel\n",
    "selection = SelectionFromModel(xgbmodel,threshold=)"
   ]
  },
  {
   "cell_type": "code",
   "execution_count": 83,
   "metadata": {},
   "outputs": [
    {
     "data": {
      "text/plain": [
       "Semana                       False\n",
       "Agencia_ID                   False\n",
       "Canal_ID                     False\n",
       "Ruta_SAK                     False\n",
       "Cliente_ID                   False\n",
       "Producto_ID                  False\n",
       "Client_Type                  False\n",
       "Producto_name                False\n",
       "weight                       False\n",
       "pieces                       False\n",
       "weight_per_piece             False\n",
       "Demanda_uni_equil            False\n",
       "Demanda_uni_equil_tminus1    False\n",
       "Demanda_uni_equil_tminus2    False\n",
       "Demanda_uni_equil_tminus3    False\n",
       "Demanda_uni_equil_tminus4    False\n",
       "Demanda_uni_equil_tminus5    False\n",
       "Agencia_ID_count             False\n",
       "Canal_ID_count               False\n",
       "Ruta_SAK_count               False\n",
       "Cliente_ID_count             False\n",
       "Producto_ID_count            False\n",
       "Client_Type_count            False\n",
       "dtype: bool"
      ]
     },
     "execution_count": 83,
     "metadata": {},
     "output_type": "execute_result"
    }
   ],
   "source": [
    "train_modified.fillna(train_modified.mean(),inplace = True)\n",
    "train_modified.isnull().any()"
   ]
  },
  {
   "cell_type": "code",
   "execution_count": 110,
   "metadata": {},
   "outputs": [],
   "source": [
    "# 1. \n",
    "# 2. scaled只对numerical，id feature取出\n",
    "# 3. 新产品\n",
    "# 4. \n"
   ]
  },
  {
   "cell_type": "code",
   "execution_count": 115,
   "metadata": {},
   "outputs": [],
   "source": [
    "aaa = pred.sort()\n",
    "aaa"
   ]
  },
  {
   "cell_type": "code",
   "execution_count": 123,
   "metadata": {},
   "outputs": [
    {
     "data": {
      "text/plain": [
       "array([  0.       ,   0.       ,   1.2511872, ..., 105.32796  ,\n",
       "       203.14882  , 236.9712   ], dtype=float32)"
      ]
     },
     "execution_count": 123,
     "metadata": {},
     "output_type": "execute_result"
    }
   ],
   "source": [
    "np.sort(pred)"
   ]
  },
  {
   "cell_type": "code",
   "execution_count": 117,
   "metadata": {},
   "outputs": [
    {
     "data": {
      "text/plain": [
       "array([   0,    0,    0, ...,  425,  601, 2184])"
      ]
     },
     "execution_count": 117,
     "metadata": {},
     "output_type": "execute_result"
    }
   ],
   "source": [
    "np.sort(Y_test)"
   ]
  },
  {
   "cell_type": "code",
   "execution_count": 118,
   "metadata": {},
   "outputs": [
    {
     "data": {
      "text/plain": [
       "array([  0,   0,   0, ..., 192, 336, 360])"
      ]
     },
     "execution_count": 118,
     "metadata": {},
     "output_type": "execute_result"
    }
   ],
   "source": [
    "np.sort(Y_train)"
   ]
  },
  {
   "cell_type": "code",
   "execution_count": null,
   "metadata": {},
   "outputs": [],
   "source": []
  }
 ],
 "metadata": {
  "kernelspec": {
   "display_name": "Python 3",
   "language": "python",
   "name": "python3"
  },
  "language_info": {
   "codemirror_mode": {
    "name": "ipython",
    "version": 3
   },
   "file_extension": ".py",
   "mimetype": "text/x-python",
   "name": "python",
   "nbconvert_exporter": "python",
   "pygments_lexer": "ipython3",
   "version": "3.7.3"
  }
 },
 "nbformat": 4,
 "nbformat_minor": 2
}
